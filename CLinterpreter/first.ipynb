{
 "cells": [
  {
   "cell_type": "code",
   "execution_count": 181,
   "metadata": {},
   "outputs": [],
   "source": [
    "def parenthese_match(string):\n",
    "    \"\"\"take from string until matching close parenthese found.\n",
    "    string should start with the ( that is to be to matched.\"\"\"\n",
    "    \n",
    "    open_parentheses = 0\n",
    "    close_parentheses = 0\n",
    "    \n",
    "    index = 0\n",
    "    count = 0\n",
    "    \n",
    "    for char in string:\n",
    "        count += 1\n",
    "        \n",
    "        if char == \"(\":\n",
    "            open_parentheses += 1\n",
    "            \n",
    "        elif char == \")\":\n",
    "            close_parentheses += 1\n",
    "            \n",
    "            if open_parentheses == close_parentheses:\n",
    "                index += count\n",
    "                break\n",
    "                \n",
    "    if index == 0:\n",
    "        print(\"Parse error. Trailing close parentheses not found.\")\n",
    "        return\n",
    "    \n",
    "    else:\n",
    "        return string[0:index]"
   ]
  },
  {
   "cell_type": "code",
   "execution_count": 182,
   "metadata": {},
   "outputs": [
    {
     "data": {
      "text/plain": [
       "'(CI(KI))'"
      ]
     },
     "execution_count": 182,
     "metadata": {},
     "output_type": "execute_result"
    }
   ],
   "source": [
    "parenthese_match(\"(CI(KI))(CIK)\")"
   ]
  },
  {
   "cell_type": "code",
   "execution_count": 183,
   "metadata": {},
   "outputs": [
    {
     "data": {
      "text/plain": [
       "'(KI)'"
      ]
     },
     "execution_count": 183,
     "metadata": {},
     "output_type": "execute_result"
    }
   ],
   "source": [
    "parenthese_match(\"(KI)(CIK)\")"
   ]
  },
  {
   "cell_type": "code",
   "execution_count": 184,
   "metadata": {},
   "outputs": [
    {
     "data": {
      "text/plain": [
       "'(KI(WI(BI)))'"
      ]
     },
     "execution_count": 184,
     "metadata": {},
     "output_type": "execute_result"
    }
   ],
   "source": [
    "parenthese_match(\"(KI(WI(BI)))(CIK)\")"
   ]
  },
  {
   "cell_type": "markdown",
   "metadata": {},
   "source": [
    "Example expression `S(KS)Kxyz` and example list `[\"S\",[\"K\",\"S\"],\"K\",\"x\",\"y\",\"z\"]`"
   ]
  },
  {
   "cell_type": "markdown",
   "metadata": {},
   "source": [
    "Another example expression `S(CI(KI))(CIK)` and example list `[\"S\",[\"C\",\"I\",[\"K\",\"I\"]],[\"C\",\"I\",\"K\"]]`"
   ]
  },
  {
   "cell_type": "code",
   "execution_count": 185,
   "metadata": {},
   "outputs": [],
   "source": [
    "def encoding(data):\n",
    "    \"\"\"CL string to list OR CL list to string\"\"\"\n",
    "    \n",
    "    if type(data) == str:\n",
    "        d = data \n",
    "        _list = []\n",
    "        \n",
    "        while len(d) > 0:\n",
    "            if d[0] == \"(\":\n",
    "                p = parenthese_match(d) \n",
    "                _list.append(encoding(p[1:-1])) \n",
    "                d = d[len(p):]\n",
    "                \n",
    "            elif d[0] == \")\":\n",
    "                d = d[1:]\n",
    "                                \n",
    "            else:\n",
    "                _list.append(d[0])\n",
    "                d = d[1:]\n",
    "        \n",
    "        if len(_list) == 1 and type(_list[0]) == list:\n",
    "            return _list[0]\n",
    "        \n",
    "        else:\n",
    "            return _list\n",
    "        \n",
    "    elif type(data) == list:\n",
    "        string = \"\"\n",
    "        \n",
    "        for i in data:\n",
    "            if type(i) == str:\n",
    "                string += i\n",
    "            else:\n",
    "                string += \"(\"\n",
    "                string += encoding(i)\n",
    "                string += \")\"\n",
    "        \n",
    "        return string \n",
    "        \n",
    "    else:\n",
    "        return f\"Type Error. Got: {type(data)}, Expected 'str' or 'list'\""
   ]
  },
  {
   "cell_type": "code",
   "execution_count": 186,
   "metadata": {},
   "outputs": [
    {
     "data": {
      "text/plain": [
       "'S(KS)Kxyz'"
      ]
     },
     "execution_count": 186,
     "metadata": {},
     "output_type": "execute_result"
    }
   ],
   "source": [
    "encoding([\"S\",[\"K\",\"S\"],\"K\",\"x\",\"y\",\"z\"])"
   ]
  },
  {
   "cell_type": "code",
   "execution_count": 187,
   "metadata": {},
   "outputs": [
    {
     "data": {
      "text/plain": [
       "'S(CI(KI))(CIK)'"
      ]
     },
     "execution_count": 187,
     "metadata": {},
     "output_type": "execute_result"
    }
   ],
   "source": [
    "encoding([\"S\",[\"C\",\"I\",[\"K\",\"I\"]],[\"C\",\"I\",\"K\"]])"
   ]
  },
  {
   "cell_type": "code",
   "execution_count": 188,
   "metadata": {},
   "outputs": [
    {
     "data": {
      "text/plain": [
       "\"Type Error. Got: <class 'tuple'>, Expected 'str' or 'list'\""
      ]
     },
     "execution_count": 188,
     "metadata": {},
     "output_type": "execute_result"
    }
   ],
   "source": [
    "encoding((1,2))"
   ]
  },
  {
   "cell_type": "code",
   "execution_count": 189,
   "metadata": {},
   "outputs": [
    {
     "data": {
      "text/plain": [
       "['S', ['K', 'S'], 'K', 'x', 'y', 'z']"
      ]
     },
     "execution_count": 189,
     "metadata": {},
     "output_type": "execute_result"
    }
   ],
   "source": [
    "encoding(\"S(KS)Kxyz\")"
   ]
  },
  {
   "cell_type": "code",
   "execution_count": 190,
   "metadata": {},
   "outputs": [
    {
     "data": {
      "text/plain": [
       "True"
      ]
     },
     "execution_count": 190,
     "metadata": {},
     "output_type": "execute_result"
    }
   ],
   "source": [
    "encoding(\"S(KS)Kxyz\") == [\"S\",[\"K\",\"S\"],\"K\",\"x\",\"y\",\"z\"]"
   ]
  },
  {
   "cell_type": "code",
   "execution_count": 191,
   "metadata": {},
   "outputs": [
    {
     "data": {
      "text/plain": [
       "['S', ['C', 'I', ['K', 'I']], ['C', 'I', 'K']]"
      ]
     },
     "execution_count": 191,
     "metadata": {},
     "output_type": "execute_result"
    }
   ],
   "source": [
    "encoding(\"S(CI(KI))(CIK)\")"
   ]
  },
  {
   "cell_type": "code",
   "execution_count": 192,
   "metadata": {},
   "outputs": [
    {
     "data": {
      "text/plain": [
       "True"
      ]
     },
     "execution_count": 192,
     "metadata": {},
     "output_type": "execute_result"
    }
   ],
   "source": [
    "encoding(\"S(CI(KI))(CIK)\") == [\"S\",[\"C\",\"I\",[\"K\",\"I\"]],[\"C\",\"I\",\"K\"]]"
   ]
  },
  {
   "cell_type": "markdown",
   "metadata": {},
   "source": [
    "-- --"
   ]
  },
  {
   "cell_type": "code",
   "execution_count": 303,
   "metadata": {},
   "outputs": [],
   "source": [
    "def I_combinator(string):\n",
    "    \"\"\"Ix = x\"\"\"\n",
    "    return string\n",
    "\n",
    "def K_combinator(string):\n",
    "    \"\"\"Kxy = x\"\"\"\n",
    "    if type(encoding(string)[0]) == str:\n",
    "        return encoding(string)[0]\n",
    "    else:\n",
    "        return encoding(encoding(string)[0])\n",
    "\n",
    "def B_combinator(string):\n",
    "    \"\"\"Bxyz = x(yz)\"\"\"\n",
    "    l = encoding(string)\n",
    "    return encoding([l[0],[l[1],l[2]]])\n",
    "\n",
    "def C_combinator(string):\n",
    "    \"\"\"Cxyz = xzy\"\"\"\n",
    "    l = encoding(string)\n",
    "    return encoding([l[0],l[2],l[1]])\n",
    "    \n",
    "def W_combinator(string):\n",
    "    \"\"\"Wxy = xyy\"\"\"\n",
    "    l = encoding(string)\n",
    "    return encoding([l[0],l[1],l[1]])\n",
    "\n",
    "def S_combinator(string):\n",
    "    \"\"\"Sxyz = xz(yz)\"\"\"\n",
    "    l = encoding(string)\n",
    "    return encoding([l[0],l[2],[l[1],l[2]]])\n",
    "\n",
    "def Y_combinator(string):\n",
    "    \"\"\"Yx = B(WI)(BWB)x\"\"\"\n",
    "    l = encoding(string)\n",
    "    return B_combinator(\"(WI)(BWB)\" + string)\n",
    "\n",
    "def M_combinator(string):\n",
    "    \"\"\"Mx = xx\"\"\"\n",
    "    return string + string\n",
    "\n",
    "def F_combinator(string):\n",
    "    \"\"\"Fxy = y\"\"\"\n",
    "    if type(encoding(string)[1]) == str:\n",
    "        return encoding(string)[1]\n",
    "    else:\n",
    "        return encoding(encoding(string)[1])"
   ]
  },
  {
   "cell_type": "code",
   "execution_count": 219,
   "metadata": {},
   "outputs": [
    {
     "data": {
      "text/plain": [
       "'x'"
      ]
     },
     "execution_count": 219,
     "metadata": {},
     "output_type": "execute_result"
    }
   ],
   "source": [
    "I_combinator(\"x\")"
   ]
  },
  {
   "cell_type": "code",
   "execution_count": 220,
   "metadata": {},
   "outputs": [
    {
     "data": {
      "text/plain": [
       "'x'"
      ]
     },
     "execution_count": 220,
     "metadata": {},
     "output_type": "execute_result"
    }
   ],
   "source": [
    "K_combinator(\"xy\")"
   ]
  },
  {
   "cell_type": "code",
   "execution_count": 221,
   "metadata": {},
   "outputs": [
    {
     "data": {
      "text/plain": [
       "'x(yz)'"
      ]
     },
     "execution_count": 221,
     "metadata": {},
     "output_type": "execute_result"
    }
   ],
   "source": [
    "B_combinator(\"xyz\")"
   ]
  },
  {
   "cell_type": "code",
   "execution_count": 222,
   "metadata": {},
   "outputs": [
    {
     "data": {
      "text/plain": [
       "'xzy'"
      ]
     },
     "execution_count": 222,
     "metadata": {},
     "output_type": "execute_result"
    }
   ],
   "source": [
    "C_combinator(\"xyz\")"
   ]
  },
  {
   "cell_type": "code",
   "execution_count": 223,
   "metadata": {},
   "outputs": [
    {
     "data": {
      "text/plain": [
       "'xyy'"
      ]
     },
     "execution_count": 223,
     "metadata": {},
     "output_type": "execute_result"
    }
   ],
   "source": [
    "W_combinator(\"xy\")"
   ]
  },
  {
   "cell_type": "code",
   "execution_count": 224,
   "metadata": {},
   "outputs": [
    {
     "data": {
      "text/plain": [
       "'xz(yz)'"
      ]
     },
     "execution_count": 224,
     "metadata": {},
     "output_type": "execute_result"
    }
   ],
   "source": [
    "S_combinator(\"xyz\")"
   ]
  },
  {
   "cell_type": "code",
   "execution_count": 225,
   "metadata": {},
   "outputs": [
    {
     "data": {
      "text/plain": [
       "'(WI)((BWB)x)'"
      ]
     },
     "execution_count": 225,
     "metadata": {},
     "output_type": "execute_result"
    }
   ],
   "source": [
    "Y_combinator(\"x\")"
   ]
  },
  {
   "cell_type": "code",
   "execution_count": 226,
   "metadata": {},
   "outputs": [
    {
     "data": {
      "text/plain": [
       "'xx'"
      ]
     },
     "execution_count": 226,
     "metadata": {},
     "output_type": "execute_result"
    }
   ],
   "source": [
    "M_combinator(\"x\")"
   ]
  },
  {
   "cell_type": "code",
   "execution_count": 304,
   "metadata": {},
   "outputs": [
    {
     "data": {
      "text/plain": [
       "'y'"
      ]
     },
     "execution_count": 304,
     "metadata": {},
     "output_type": "execute_result"
    }
   ],
   "source": [
    "F_combinator(\"xy\")"
   ]
  },
  {
   "cell_type": "markdown",
   "metadata": {},
   "source": [
    "-- --"
   ]
  },
  {
   "cell_type": "code",
   "execution_count": 201,
   "metadata": {},
   "outputs": [
    {
     "data": {
      "text/plain": [
       "['A', 'B', 'C']"
      ]
     },
     "execution_count": 201,
     "metadata": {},
     "output_type": "execute_result"
    }
   ],
   "source": [
    "encoding(\"(ABC)\")"
   ]
  },
  {
   "cell_type": "code",
   "execution_count": 202,
   "metadata": {},
   "outputs": [],
   "source": [
    "m = {\"S\": S_combinator}"
   ]
  },
  {
   "cell_type": "code",
   "execution_count": 203,
   "metadata": {},
   "outputs": [
    {
     "data": {
      "text/plain": [
       "'xz(yz)'"
      ]
     },
     "execution_count": 203,
     "metadata": {},
     "output_type": "execute_result"
    }
   ],
   "source": [
    "m[\"S\"](\"xyz\")"
   ]
  },
  {
   "cell_type": "code",
   "execution_count": 227,
   "metadata": {},
   "outputs": [],
   "source": [
    "def evaluate(string):\n",
    "    cl_list = encoding(string)\n",
    "    \n",
    "    while type(cl_list[0]) == list: # strip leading parentheses\n",
    "        cl_list = [i for i in cl_list[0]] + cl_list[1:]\n",
    "    \n",
    "    # \"X\": (function, arg_num)\n",
    "    _map = {\"I\": (I_combinator,1), \"K\": (K_combinator,2), \"B\": (B_combinator,3), \"C\": (C_combinator,3), \n",
    "            \"W\": (W_combinator,2), \"S\": (S_combinator,3), \"Y\": (Y_combinator,1), \"M\": (M_combinator,1)}\n",
    "    \n",
    "    combinator_return = _map[cl_list[0]][0](encoding(cl_list[1:(_map[cl_list[0]][1]+1)]))\n",
    "    tail = encoding(cl_list[(_map[cl_list[0]][1]+1):])\n",
    "    \n",
    "    return combinator_return + tail"
   ]
  },
  {
   "cell_type": "code",
   "execution_count": 228,
   "metadata": {},
   "outputs": [
    {
     "data": {
      "text/plain": [
       "'(KS)x(Kx)yz'"
      ]
     },
     "execution_count": 228,
     "metadata": {},
     "output_type": "execute_result"
    }
   ],
   "source": [
    "evaluate(\"S(KS)Kxyz\")"
   ]
  },
  {
   "cell_type": "code",
   "execution_count": 229,
   "metadata": {},
   "outputs": [
    {
     "data": {
      "text/plain": [
       "'S(Kx)yz'"
      ]
     },
     "execution_count": 229,
     "metadata": {},
     "output_type": "execute_result"
    }
   ],
   "source": [
    "evaluate(\"(KS)x(Kx)yz\")"
   ]
  },
  {
   "cell_type": "code",
   "execution_count": 230,
   "metadata": {},
   "outputs": [
    {
     "data": {
      "text/plain": [
       "'(Kx)z(yz)'"
      ]
     },
     "execution_count": 230,
     "metadata": {},
     "output_type": "execute_result"
    }
   ],
   "source": [
    "evaluate(\"S(Kx)yz\")"
   ]
  },
  {
   "cell_type": "code",
   "execution_count": 231,
   "metadata": {},
   "outputs": [
    {
     "data": {
      "text/plain": [
       "'x(yz)'"
      ]
     },
     "execution_count": 231,
     "metadata": {},
     "output_type": "execute_result"
    }
   ],
   "source": [
    "evaluate(\"(Kx)z(yz)\")"
   ]
  },
  {
   "cell_type": "markdown",
   "metadata": {},
   "source": [
    "-- --"
   ]
  },
  {
   "cell_type": "code",
   "execution_count": 279,
   "metadata": {},
   "outputs": [],
   "source": [
    "def recur(string,print_steps=False,write_steps=False):\n",
    "    steps = [string]\n",
    "\n",
    "    while True:\n",
    "        try:\n",
    "            ns = evaluate(string)\n",
    "            steps.append(ns)\n",
    "            string = ns\n",
    "                \n",
    "            # cycle\n",
    "            if len(set(steps)) != len(steps) : \n",
    "                break\n",
    "            \n",
    "            # no cycle\n",
    "            else: \n",
    "                pass\n",
    "            \n",
    "        except:\n",
    "            break\n",
    "    \n",
    "    if print_steps:\n",
    "        for i in steps:\n",
    "            print(i)\n",
    "            \n",
    "    if write_steps:\n",
    "        file = input(\"filename : \")\n",
    "        \n",
    "        with open(file + \".txt\", \"w\") as f:\n",
    "            for i in steps:\n",
    "                f.write(i)\n",
    "                f.write(\"\\n\")\n",
    "        \n",
    "    return steps[-1]"
   ]
  },
  {
   "cell_type": "code",
   "execution_count": 280,
   "metadata": {},
   "outputs": [
    {
     "name": "stdout",
     "output_type": "stream",
     "text": [
      "S(KS)Kxyz\n",
      "(KS)x(Kx)yz\n",
      "S(Kx)yz\n",
      "(Kx)z(yz)\n",
      "x(yz)\n"
     ]
    },
    {
     "data": {
      "text/plain": [
       "'x(yz)'"
      ]
     },
     "execution_count": 280,
     "metadata": {},
     "output_type": "execute_result"
    }
   ],
   "source": [
    "recur(\"S(KS)Kxyz\",print_steps=True)"
   ]
  },
  {
   "cell_type": "code",
   "execution_count": 281,
   "metadata": {},
   "outputs": [
    {
     "name": "stdout",
     "output_type": "stream",
     "text": [
      "CI(KI)(BC(CI)xy)\n",
      "I(BC(CI)xy)(KI)\n",
      "(BC(CI)xy)(KI)\n",
      "C((CI)x)y(KI)\n",
      "((CI)x)(KI)y\n",
      "I(KI)xy\n",
      "(KI)xy\n",
      "Iy\n",
      "y\n"
     ]
    },
    {
     "data": {
      "text/plain": [
       "'y'"
      ]
     },
     "execution_count": 281,
     "metadata": {},
     "output_type": "execute_result"
    }
   ],
   "source": [
    "recur(\"CI(KI)(BC(CI)xy)\",print_steps=True)"
   ]
  },
  {
   "cell_type": "code",
   "execution_count": 282,
   "metadata": {},
   "outputs": [
    {
     "name": "stdout",
     "output_type": "stream",
     "text": [
      "K(C(CI(KI))K)I(KI)(C(CI(KI))K)I(KI)(C(CI(KI))K)IK(C(CII)(C(CI(KI))K)K(KI))(KI)(KI)K\n",
      "C(CI(KI))K(KI)(C(CI(KI))K)I(KI)(C(CI(KI))K)IK(C(CII)(C(CI(KI))K)K(KI))(KI)(KI)K\n",
      "(CI(KI))(KI)K(C(CI(KI))K)I(KI)(C(CI(KI))K)IK(C(CII)(C(CI(KI))K)K(KI))(KI)(KI)K\n",
      "I(KI)(KI)K(C(CI(KI))K)I(KI)(C(CI(KI))K)IK(C(CII)(C(CI(KI))K)K(KI))(KI)(KI)K\n",
      "(KI)(KI)K(C(CI(KI))K)I(KI)(C(CI(KI))K)IK(C(CII)(C(CI(KI))K)K(KI))(KI)(KI)K\n",
      "IK(C(CI(KI))K)I(KI)(C(CI(KI))K)IK(C(CII)(C(CI(KI))K)K(KI))(KI)(KI)K\n",
      "K(C(CI(KI))K)I(KI)(C(CI(KI))K)IK(C(CII)(C(CI(KI))K)K(KI))(KI)(KI)K\n",
      "C(CI(KI))K(KI)(C(CI(KI))K)IK(C(CII)(C(CI(KI))K)K(KI))(KI)(KI)K\n",
      "(CI(KI))(KI)K(C(CI(KI))K)IK(C(CII)(C(CI(KI))K)K(KI))(KI)(KI)K\n",
      "I(KI)(KI)K(C(CI(KI))K)IK(C(CII)(C(CI(KI))K)K(KI))(KI)(KI)K\n",
      "(KI)(KI)K(C(CI(KI))K)IK(C(CII)(C(CI(KI))K)K(KI))(KI)(KI)K\n",
      "IK(C(CI(KI))K)IK(C(CII)(C(CI(KI))K)K(KI))(KI)(KI)K\n",
      "K(C(CI(KI))K)IK(C(CII)(C(CI(KI))K)K(KI))(KI)(KI)K\n",
      "C(CI(KI))KK(C(CII)(C(CI(KI))K)K(KI))(KI)(KI)K\n",
      "(CI(KI))KK(C(CII)(C(CI(KI))K)K(KI))(KI)(KI)K\n",
      "IK(KI)K(C(CII)(C(CI(KI))K)K(KI))(KI)(KI)K\n",
      "K(KI)K(C(CII)(C(CI(KI))K)K(KI))(KI)(KI)K\n",
      "KI(C(CII)(C(CI(KI))K)K(KI))(KI)(KI)K\n",
      "I(KI)(KI)K\n",
      "(KI)(KI)K\n",
      "IK\n",
      "K\n"
     ]
    },
    {
     "data": {
      "text/plain": [
       "'K'"
      ]
     },
     "execution_count": 282,
     "metadata": {},
     "output_type": "execute_result"
    }
   ],
   "source": [
    "recur(\"K(C(CI(KI))K)I(KI)(C(CI(KI))K)I(KI)(C(CI(KI))K)IK(C(CII)(C(CI(KI))K)K(KI))(KI)(KI)K\",print_steps=True)"
   ]
  },
  {
   "cell_type": "code",
   "execution_count": 283,
   "metadata": {},
   "outputs": [
    {
     "data": {
      "text/plain": [
       "'x(((BWB)x)((BWB)x))'"
      ]
     },
     "execution_count": 283,
     "metadata": {},
     "output_type": "execute_result"
    }
   ],
   "source": [
    "recur(\"Yx\")"
   ]
  },
  {
   "cell_type": "code",
   "execution_count": 284,
   "metadata": {},
   "outputs": [
    {
     "data": {
      "text/plain": [
       "'WWW'"
      ]
     },
     "execution_count": 284,
     "metadata": {},
     "output_type": "execute_result"
    }
   ],
   "source": [
    "recur(\"WWW\")"
   ]
  },
  {
   "cell_type": "markdown",
   "metadata": {},
   "source": [
    "-- --"
   ]
  },
  {
   "cell_type": "code",
   "execution_count": 285,
   "metadata": {},
   "outputs": [
    {
     "data": {
      "text/plain": [
       "'C((CI)x)y'"
      ]
     },
     "execution_count": 285,
     "metadata": {},
     "output_type": "execute_result"
    }
   ],
   "source": [
    "evaluate(\"BC(CI)xy\")"
   ]
  },
  {
   "cell_type": "code",
   "execution_count": 286,
   "metadata": {},
   "outputs": [
    {
     "data": {
      "text/plain": [
       "'x'"
      ]
     },
     "execution_count": 286,
     "metadata": {},
     "output_type": "execute_result"
    }
   ],
   "source": [
    "recur(\"CIK(C((CI)x)y)\")"
   ]
  },
  {
   "cell_type": "code",
   "execution_count": 287,
   "metadata": {},
   "outputs": [
    {
     "data": {
      "text/plain": [
       "'y'"
      ]
     },
     "execution_count": 287,
     "metadata": {},
     "output_type": "execute_result"
    }
   ],
   "source": [
    "recur(\"CI(KI)(C((CI)x)y)\")"
   ]
  },
  {
   "cell_type": "code",
   "execution_count": 288,
   "metadata": {},
   "outputs": [
    {
     "name": "stdout",
     "output_type": "stream",
     "text": [
      "filename : test\n"
     ]
    },
    {
     "data": {
      "text/plain": [
       "'y'"
      ]
     },
     "execution_count": 288,
     "metadata": {},
     "output_type": "execute_result"
    }
   ],
   "source": [
    "recur(\"CI(KI)(C((CI)x)y)\",write_steps=True)"
   ]
  },
  {
   "cell_type": "markdown",
   "metadata": {},
   "source": [
    "-- --"
   ]
  },
  {
   "cell_type": "code",
   "execution_count": 289,
   "metadata": {},
   "outputs": [
    {
     "data": {
      "text/plain": [
       "'(C(C(B(BK))y)(C(C(B(BK))x)(KI)))'"
      ]
     },
     "execution_count": 289,
     "metadata": {},
     "output_type": "execute_result"
    }
   ],
   "source": [
    "recur(\"BC(CI)(KI)(KI)(C(C(B(BK))z)(C(C(B(BK))y)(C(C(B(BK))x)(KI))))\")"
   ]
  },
  {
   "cell_type": "code",
   "execution_count": 300,
   "metadata": {},
   "outputs": [
    {
     "data": {
      "text/plain": [
       "'C(C(B(BK))x)(C(C(B(BK))y)(C(C(B(BK))z)(KI)))'"
      ]
     },
     "execution_count": 300,
     "metadata": {},
     "output_type": "execute_result"
    }
   ],
   "source": [
    "recur(\"C(C(B(BK))x)(C(C(B(BK))y)(C(C(B(BK))z)(KI)))\")"
   ]
  },
  {
   "cell_type": "code",
   "execution_count": 302,
   "metadata": {},
   "outputs": [
    {
     "name": "stdout",
     "output_type": "stream",
     "text": [
      "filename : test\n"
     ]
    },
    {
     "data": {
      "text/plain": [
       "'C(((BC(CI))((BC)((B(B(((BWB)(B(B(C(B(B(B(C(BC)I)(BC(CI)))(BC)))(BC(C(B(BK)))))B)B))((BWB)(B(B(C(B(B(B(C(BC)I)(BC(CI)))(BC)))(BC(C(B(BK)))))B)B)))))(BC(C(B(BK)))))))I)(C(C(B(BK))x)(C(C(B(BK))y)(C(C(B(BK))z)(KI))))'"
      ]
     },
     "execution_count": 302,
     "metadata": {},
     "output_type": "execute_result"
    }
   ],
   "source": [
    "recur(\"B(WI)(BWB)(B(B(C(B(B(B(C(BC)I)(BC(CI)))(BC)))(BC(C(B(BK)))))B)B)(C(C(B(BK))x)(C(C(B(BK))y)(C(C(B(BK))z)(KI))))\",write_steps=True)"
   ]
  },
  {
   "cell_type": "markdown",
   "metadata": {},
   "source": [
    "-- --"
   ]
  },
  {
   "cell_type": "code",
   "execution_count": 306,
   "metadata": {},
   "outputs": [
    {
     "name": "stdout",
     "output_type": "stream",
     "text": [
      "filename : test\n"
     ]
    },
    {
     "data": {
      "text/plain": [
       "''"
      ]
     },
     "execution_count": 306,
     "metadata": {},
     "output_type": "execute_result"
    }
   ],
   "source": [
    "recur(\"C(B(B(C(B(C(B(B(CBC)(B(C(B(C(B(C(B(B(B(C(B(B(CB(CC(KI)))B))(KI))C))C)K))C))(K(KI))))))I))C)))KK(KI)KK(KI)\",write_steps=True)"
   ]
  }
 ],
 "metadata": {
  "kernelspec": {
   "display_name": "Python 3",
   "language": "python",
   "name": "python3"
  },
  "language_info": {
   "codemirror_mode": {
    "name": "ipython",
    "version": 3
   },
   "file_extension": ".py",
   "mimetype": "text/x-python",
   "name": "python",
   "nbconvert_exporter": "python",
   "pygments_lexer": "ipython3",
   "version": "3.8.5"
  }
 },
 "nbformat": 4,
 "nbformat_minor": 4
}
