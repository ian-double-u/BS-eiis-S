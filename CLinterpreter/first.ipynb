{
 "cells": [
  {
   "cell_type": "code",
   "execution_count": 166,
   "metadata": {},
   "outputs": [],
   "source": [
    "def parenthese_match(string):\n",
    "    \"\"\"take from string until matching close parenthese found.\n",
    "    string should start with the ( that is to be to matched.\"\"\"\n",
    "    \n",
    "    open_parentheses = 0\n",
    "    close_parentheses = 0\n",
    "    \n",
    "    index = 0\n",
    "    \n",
    "    for char in string:\n",
    "        if char == \"(\":\n",
    "            open_parentheses += 1\n",
    "            \n",
    "        elif char == \")\":\n",
    "            close_parentheses += 1\n",
    "            \n",
    "            if open_parentheses == close_parentheses:\n",
    "                index = string.index(char)\n",
    "                index += close_parentheses\n",
    "                break\n",
    "                \n",
    "    if index == 0:\n",
    "        return \"Parse error. Trailing close parentheses not found.\"\n",
    "    \n",
    "    else:\n",
    "        return string[0:index]"
   ]
  },
  {
   "cell_type": "code",
   "execution_count": 167,
   "metadata": {},
   "outputs": [
    {
     "data": {
      "text/plain": [
       "'(CI(KI))'"
      ]
     },
     "execution_count": 167,
     "metadata": {},
     "output_type": "execute_result"
    }
   ],
   "source": [
    "parenthese_match(\"(CI(KI))(CIK)\")"
   ]
  },
  {
   "cell_type": "code",
   "execution_count": 168,
   "metadata": {},
   "outputs": [
    {
     "data": {
      "text/plain": [
       "'(KI)'"
      ]
     },
     "execution_count": 168,
     "metadata": {},
     "output_type": "execute_result"
    }
   ],
   "source": [
    "parenthese_match(\"(KI)(CIK)\")"
   ]
  },
  {
   "cell_type": "code",
   "execution_count": 169,
   "metadata": {},
   "outputs": [
    {
     "data": {
      "text/plain": [
       "'(KI(WI(BI)))'"
      ]
     },
     "execution_count": 169,
     "metadata": {},
     "output_type": "execute_result"
    }
   ],
   "source": [
    "parenthese_match(\"(KI(WI(BI)))(CIK)\")"
   ]
  },
  {
   "cell_type": "markdown",
   "metadata": {},
   "source": [
    "Example expression `S(KS)Kxyz` and example list `[\"S\",[\"K\",\"S\"],\"K\",\"x\",\"y\",\"z\"]`"
   ]
  },
  {
   "cell_type": "markdown",
   "metadata": {},
   "source": [
    "Another example expression `S(CI(KI))(CIK)` and example list `[\"S\",[\"C\",\"I\",[\"K\",\"I\"]],[\"C\",\"I\",\"K\"]]`"
   ]
  },
  {
   "cell_type": "code",
   "execution_count": 263,
   "metadata": {},
   "outputs": [],
   "source": [
    "def encoding(data):\n",
    "    \"\"\"CL string to list OR CL list to string\"\"\"\n",
    "    \n",
    "    if type(data) == str:\n",
    "        d = data \n",
    "        _list = []\n",
    "        \n",
    "        while len(d) > 0:\n",
    "            if d[0] == \"(\":\n",
    "                p = parenthese_match(d) \n",
    "                _list.append(encoding(p[1:-1])) \n",
    "                d = d[len(p):]\n",
    "                \n",
    "            elif d[0] == \")\":\n",
    "                d = d[1:]\n",
    "                                \n",
    "            else:\n",
    "                _list.append(d[0])\n",
    "                d = d[1:]\n",
    "        \n",
    "        if len(_list) == 1 and type(_list[0]) == list:\n",
    "            return _list[0]\n",
    "        \n",
    "        else:\n",
    "            return _list\n",
    "        \n",
    "    elif type(data) == list:\n",
    "        string = \"\"\n",
    "        \n",
    "        for i in data:\n",
    "            if type(i) == str:\n",
    "                string += i\n",
    "            else:\n",
    "                string += \"(\"\n",
    "                string += encoding(i)\n",
    "                string += \")\"\n",
    "        \n",
    "        return string \n",
    "        \n",
    "    else:\n",
    "        return f\"Type Error. Got: {type(data)}, Expected 'str' or 'list'\""
   ]
  },
  {
   "cell_type": "code",
   "execution_count": 264,
   "metadata": {},
   "outputs": [
    {
     "data": {
      "text/plain": [
       "'S(KS)Kxyz'"
      ]
     },
     "execution_count": 264,
     "metadata": {},
     "output_type": "execute_result"
    }
   ],
   "source": [
    "encoding([\"S\",[\"K\",\"S\"],\"K\",\"x\",\"y\",\"z\"])"
   ]
  },
  {
   "cell_type": "code",
   "execution_count": 265,
   "metadata": {},
   "outputs": [
    {
     "data": {
      "text/plain": [
       "'S(CI(KI))(CIK)'"
      ]
     },
     "execution_count": 265,
     "metadata": {},
     "output_type": "execute_result"
    }
   ],
   "source": [
    "encoding([\"S\",[\"C\",\"I\",[\"K\",\"I\"]],[\"C\",\"I\",\"K\"]])"
   ]
  },
  {
   "cell_type": "code",
   "execution_count": 266,
   "metadata": {},
   "outputs": [
    {
     "data": {
      "text/plain": [
       "\"Type Error. Got: <class 'tuple'>, Expected 'str' or 'list'\""
      ]
     },
     "execution_count": 266,
     "metadata": {},
     "output_type": "execute_result"
    }
   ],
   "source": [
    "encoding((1,2))"
   ]
  },
  {
   "cell_type": "code",
   "execution_count": 267,
   "metadata": {},
   "outputs": [
    {
     "data": {
      "text/plain": [
       "['S', ['K', 'S'], 'K', 'x', 'y', 'z']"
      ]
     },
     "execution_count": 267,
     "metadata": {},
     "output_type": "execute_result"
    }
   ],
   "source": [
    "encoding(\"S(KS)Kxyz\")"
   ]
  },
  {
   "cell_type": "code",
   "execution_count": 268,
   "metadata": {},
   "outputs": [
    {
     "data": {
      "text/plain": [
       "True"
      ]
     },
     "execution_count": 268,
     "metadata": {},
     "output_type": "execute_result"
    }
   ],
   "source": [
    "encoding(\"S(KS)Kxyz\") == [\"S\",[\"K\",\"S\"],\"K\",\"x\",\"y\",\"z\"]"
   ]
  },
  {
   "cell_type": "code",
   "execution_count": 269,
   "metadata": {},
   "outputs": [
    {
     "data": {
      "text/plain": [
       "['S', ['C', 'I', ['K', 'I']], ['C', 'I', 'K']]"
      ]
     },
     "execution_count": 269,
     "metadata": {},
     "output_type": "execute_result"
    }
   ],
   "source": [
    "encoding(\"S(CI(KI))(CIK)\")"
   ]
  },
  {
   "cell_type": "code",
   "execution_count": 270,
   "metadata": {},
   "outputs": [
    {
     "data": {
      "text/plain": [
       "True"
      ]
     },
     "execution_count": 270,
     "metadata": {},
     "output_type": "execute_result"
    }
   ],
   "source": [
    "encoding(\"S(CI(KI))(CIK)\") == [\"S\",[\"C\",\"I\",[\"K\",\"I\"]],[\"C\",\"I\",\"K\"]]"
   ]
  },
  {
   "cell_type": "markdown",
   "metadata": {},
   "source": [
    "-- --"
   ]
  },
  {
   "cell_type": "code",
   "execution_count": 322,
   "metadata": {},
   "outputs": [],
   "source": [
    "def I_combinator(string):\n",
    "    \"\"\"Ix = x\"\"\"\n",
    "    return string\n",
    "\n",
    "def K_combinator(string):\n",
    "    \"\"\"Kxy = x\"\"\"\n",
    "    return encoding(string)[0]\n",
    "\n",
    "def B_combinator(string):\n",
    "    \"\"\"Bxyz = x(yz)\"\"\"\n",
    "    l = encoding(string)\n",
    "    return encoding([l[0],[l[1],l[2]]])\n",
    "\n",
    "def C_combinator(string):\n",
    "    \"\"\"Cxyz = xzy\"\"\"\n",
    "    l = encoding(string)\n",
    "    return encoding([l[0],l[2],l[1]])\n",
    "    \n",
    "def W_combinator(string):\n",
    "    \"\"\"Wxy = xyy\"\"\"\n",
    "    l = encoding(string)\n",
    "    return encoding([l[0],l[1],l[1]])\n",
    "\n",
    "def S_combinator(string):\n",
    "    \"\"\"Sxyz = xz(yz)\"\"\"\n",
    "    l = encoding(string)\n",
    "    return encoding([l[0],l[2],[l[1],l[2]]])\n",
    "\n",
    "def Y_combinator(string):\n",
    "    \"\"\"Yx = B(WI)(BWB)x = ?\"\"\"\n",
    "    l = encoding(string)\n",
    "    return B_combinator(\"(WI)(BWB)\" + string)"
   ]
  },
  {
   "cell_type": "code",
   "execution_count": 323,
   "metadata": {},
   "outputs": [
    {
     "data": {
      "text/plain": [
       "'x'"
      ]
     },
     "execution_count": 323,
     "metadata": {},
     "output_type": "execute_result"
    }
   ],
   "source": [
    "I_combinator(\"x\")"
   ]
  },
  {
   "cell_type": "code",
   "execution_count": 324,
   "metadata": {},
   "outputs": [
    {
     "data": {
      "text/plain": [
       "'x'"
      ]
     },
     "execution_count": 324,
     "metadata": {},
     "output_type": "execute_result"
    }
   ],
   "source": [
    "K_combinator(\"xy\")"
   ]
  },
  {
   "cell_type": "code",
   "execution_count": 325,
   "metadata": {},
   "outputs": [
    {
     "data": {
      "text/plain": [
       "'x(yz)'"
      ]
     },
     "execution_count": 325,
     "metadata": {},
     "output_type": "execute_result"
    }
   ],
   "source": [
    "B_combinator(\"xyz\")"
   ]
  },
  {
   "cell_type": "code",
   "execution_count": 326,
   "metadata": {},
   "outputs": [
    {
     "data": {
      "text/plain": [
       "'xzy'"
      ]
     },
     "execution_count": 326,
     "metadata": {},
     "output_type": "execute_result"
    }
   ],
   "source": [
    "C_combinator(\"xyz\")"
   ]
  },
  {
   "cell_type": "code",
   "execution_count": 327,
   "metadata": {},
   "outputs": [
    {
     "data": {
      "text/plain": [
       "'xyy'"
      ]
     },
     "execution_count": 327,
     "metadata": {},
     "output_type": "execute_result"
    }
   ],
   "source": [
    "W_combinator(\"xy\")"
   ]
  },
  {
   "cell_type": "code",
   "execution_count": 328,
   "metadata": {},
   "outputs": [
    {
     "data": {
      "text/plain": [
       "'xz(yz)'"
      ]
     },
     "execution_count": 328,
     "metadata": {},
     "output_type": "execute_result"
    }
   ],
   "source": [
    "S_combinator(\"xyz\")"
   ]
  },
  {
   "cell_type": "code",
   "execution_count": 329,
   "metadata": {},
   "outputs": [
    {
     "data": {
      "text/plain": [
       "'(WI)((BWB)x)'"
      ]
     },
     "execution_count": 329,
     "metadata": {},
     "output_type": "execute_result"
    }
   ],
   "source": [
    "Y_combinator(\"x\")"
   ]
  },
  {
   "cell_type": "markdown",
   "metadata": {},
   "source": [
    "-- --"
   ]
  },
  {
   "cell_type": "code",
   "execution_count": 330,
   "metadata": {},
   "outputs": [
    {
     "data": {
      "text/plain": [
       "['A', 'B', 'C']"
      ]
     },
     "execution_count": 330,
     "metadata": {},
     "output_type": "execute_result"
    }
   ],
   "source": [
    "encoding(\"(ABC)\")"
   ]
  },
  {
   "cell_type": "code",
   "execution_count": 331,
   "metadata": {},
   "outputs": [],
   "source": [
    "m = {\"S\": S_combinator}"
   ]
  },
  {
   "cell_type": "code",
   "execution_count": 332,
   "metadata": {},
   "outputs": [
    {
     "data": {
      "text/plain": [
       "'xz(yz)'"
      ]
     },
     "execution_count": 332,
     "metadata": {},
     "output_type": "execute_result"
    }
   ],
   "source": [
    "m[\"S\"](\"xyz\")"
   ]
  },
  {
   "cell_type": "code",
   "execution_count": 367,
   "metadata": {},
   "outputs": [],
   "source": [
    "def evaluate(string):\n",
    "    cl_list = encoding(string)\n",
    "    \n",
    "    while type(cl_list[0]) == list: # strip leading parentheses\n",
    "        cl_list = [i for i in cl_list[0]] + cl_list[1:]\n",
    "    \n",
    "    # \"X\": (function, arg_num)\n",
    "    _map = {\"I\": (I_combinator,1), \"K\": (K_combinator,2), \"B\": (B_combinator,3), \"C\": (C_combinator,3), \n",
    "            \"W\": (W_combinator,2), \"S\": (S_combinator,3), \"Y\": (Y_combinator,1)}\n",
    "    \n",
    "    combinator_return = _map[cl_list[0]][0](encoding(cl_list[1:(_map[cl_list[0]][1]+1)]))\n",
    "    tail = encoding(cl_list[(_map[cl_list[0]][1]+1):])\n",
    "    \n",
    "    return combinator_return + tail"
   ]
  },
  {
   "cell_type": "code",
   "execution_count": 368,
   "metadata": {},
   "outputs": [
    {
     "data": {
      "text/plain": [
       "'(KS)x(Kx)yz'"
      ]
     },
     "execution_count": 368,
     "metadata": {},
     "output_type": "execute_result"
    }
   ],
   "source": [
    "evaluate(\"S(KS)Kxyz\")"
   ]
  },
  {
   "cell_type": "code",
   "execution_count": 369,
   "metadata": {},
   "outputs": [
    {
     "data": {
      "text/plain": [
       "'S(Kx)yz'"
      ]
     },
     "execution_count": 369,
     "metadata": {},
     "output_type": "execute_result"
    }
   ],
   "source": [
    "evaluate(\"(KS)x(Kx)yz\")"
   ]
  },
  {
   "cell_type": "code",
   "execution_count": 370,
   "metadata": {},
   "outputs": [
    {
     "data": {
      "text/plain": [
       "'(Kx)z(yz)'"
      ]
     },
     "execution_count": 370,
     "metadata": {},
     "output_type": "execute_result"
    }
   ],
   "source": [
    "evaluate(\"S(Kx)yz\")"
   ]
  },
  {
   "cell_type": "code",
   "execution_count": 371,
   "metadata": {},
   "outputs": [
    {
     "data": {
      "text/plain": [
       "'x(yz)'"
      ]
     },
     "execution_count": 371,
     "metadata": {},
     "output_type": "execute_result"
    }
   ],
   "source": [
    "evaluate(\"(Kx)z(yz)\")"
   ]
  },
  {
   "cell_type": "markdown",
   "metadata": {},
   "source": [
    "-- --"
   ]
  },
  {
   "cell_type": "code",
   "execution_count": null,
   "metadata": {},
   "outputs": [],
   "source": [
    "def recur(string,steps=[],print_steps=False,write_steps=False):\n",
    "    steps.append(string)\n",
    "    \n",
    "    while True:\n",
    "        try:\n",
    "            ns = evaluate(string)\n",
    "            steps.append(ns)\n",
    "            recur(ns,steps)\n",
    "        except:\n",
    "            break\n",
    "    \n",
    "    if print_steps:\n",
    "        for i in steps:\n",
    "            print(i)\n",
    "            \n",
    "    if write_steps:\n",
    "        file = input(\"filename: \")\n",
    "        # IO\n",
    "        \n",
    "    return steps[-1]\n",
    "\n",
    "# print(f\"{string} = {recur(string)}\")"
   ]
  },
  {
   "cell_type": "code",
   "execution_count": null,
   "metadata": {},
   "outputs": [],
   "source": []
  }
 ],
 "metadata": {
  "kernelspec": {
   "display_name": "Python 3",
   "language": "python",
   "name": "python3"
  },
  "language_info": {
   "codemirror_mode": {
    "name": "ipython",
    "version": 3
   },
   "file_extension": ".py",
   "mimetype": "text/x-python",
   "name": "python",
   "nbconvert_exporter": "python",
   "pygments_lexer": "ipython3",
   "version": "3.8.5"
  }
 },
 "nbformat": 4,
 "nbformat_minor": 4
}
